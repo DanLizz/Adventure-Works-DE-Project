{
 "cells": [
  {
   "cell_type": "markdown",
   "metadata": {
    "application/vnd.databricks.v1+cell": {
     "cellMetadata": {},
     "inputWidgets": {},
     "nuid": "78f5c5da-6acb-4e0f-80a8-2a0016f725dc",
     "showTitle": false,
     "tableResultSettingsMap": {},
     "title": ""
    }
   },
   "source": [
    "Data Access"
   ]
  },
  {
   "cell_type": "code",
   "execution_count": 0,
   "metadata": {
    "application/vnd.databricks.v1+cell": {
     "cellMetadata": {
      "byteLimit": 2048000,
      "rowLimit": 10000
     },
     "inputWidgets": {},
     "nuid": "86344893-22fb-4700-95b8-f8f117f150cc",
     "showTitle": false,
     "tableResultSettingsMap": {},
     "title": ""
    }
   },
   "outputs": [],
   "source": [
    "spark.conf.set(\"fs.azure.account.auth.type.de1storagedatalake.dfs.core.windows.net\", \"OAuth\")\n",
    "spark.conf.set(\"fs.azure.account.oauth.provider.type.de1storagedatalake.dfs.core.windows.net\", \"org.apache.hadoop.fs.azurebfs.oauth2.ClientCredsTokenProvider\")\n",
    "spark.conf.set(\"fs.azure.account.oauth2.client.id.de1storagedatalake.dfs.core.windows.net\", \"<your_key>\")\n",
    "spark.conf.set(\"fs.azure.account.oauth2.client.secret.de1storagedatalake.dfs.core.windows.net\", \"<your_secret>\")\n",
    "spark.conf.set(\"fs.azure.account.oauth2.client.endpoint.de1storagedatalake.dfs.core.windows.net\", \"<your_endpoint>\")"
   ]
  },
  {
   "cell_type": "markdown",
   "metadata": {
    "application/vnd.databricks.v1+cell": {
     "cellMetadata": {},
     "inputWidgets": {},
     "nuid": "accebc13-e31c-4314-97d1-0090caa1a5e6",
     "showTitle": false,
     "tableResultSettingsMap": {},
     "title": ""
    }
   },
   "source": [
    "Data Loading"
   ]
  },
  {
   "cell_type": "code",
   "execution_count": 0,
   "metadata": {
    "application/vnd.databricks.v1+cell": {
     "cellMetadata": {
      "byteLimit": 2048000,
      "rowLimit": 10000
     },
     "inputWidgets": {},
     "nuid": "aeaf49c1-598b-42a7-95f8-90df7ba9beb9",
     "showTitle": false,
     "tableResultSettingsMap": {},
     "title": ""
    }
   },
   "outputs": [],
   "source": [
    "dbutils.fs.ls(\"abfss://bronze@de1storagedatalake.dfs.core.windows.net\")"
   ]
  },
  {
   "cell_type": "code",
   "execution_count": 0,
   "metadata": {
    "application/vnd.databricks.v1+cell": {
     "cellMetadata": {
      "byteLimit": 2048000,
      "rowLimit": 10000
     },
     "inputWidgets": {},
     "nuid": "a3bfa5c7-cf50-40f7-8485-832ff313e270",
     "showTitle": false,
     "tableResultSettingsMap": {},
     "title": ""
    }
   },
   "outputs": [],
   "source": [
    "# df_ = {}\n",
    "for f in dbutils.fs.ls(\"abfss://bronze@de1storagedatalake.dfs.core.windows.net\"): \n",
    "    # print(f.name)\n",
    "    name = f.name.replace('/','')\n",
    "    # print(name)\n",
    "    x = \"df_\"+ name\n",
    "    print(x)\n",
    "  "
   ]
  },
  {
   "cell_type": "code",
   "execution_count": 0,
   "metadata": {
    "application/vnd.databricks.v1+cell": {
     "cellMetadata": {
      "byteLimit": 2048000,
      "rowLimit": 10000
     },
     "inputWidgets": {},
     "nuid": "ac44cbba-4238-4bd9-93ef-82cb2e97870b",
     "showTitle": false,
     "tableResultSettingsMap": {},
     "title": ""
    }
   },
   "outputs": [],
   "source": [
    "df_calendar = spark.read.format(\"csv\")\\\n",
    "        .option(\"header\", True)\\\n",
    "        .option(\"inferSchema\", True)\\\n",
    "        .load(f\"abfss://bronze@de1storagedatalake.dfs.core.windows.net/calendar\")\n",
    "\n",
    "df_customers = spark.read.format(\"csv\")\\\n",
    "        .option(\"header\", True)\\\n",
    "        .option(\"inferSchema\", True)\\\n",
    "        .load(f\"abfss://bronze@de1storagedatalake.dfs.core.windows.net/customers\")\n",
    "df_product_categories = spark.read.format(\"csv\")\\\n",
    "        .option(\"header\", True)\\\n",
    "        .option(\"inferSchema\", True)\\\n",
    "        .load(f\"abfss://bronze@de1storagedatalake.dfs.core.windows.net/product_categories\")\n",
    "df_product_subcategories = spark.read.format(\"csv\")\\\n",
    "        .option(\"header\", True)\\\n",
    "        .option(\"inferSchema\", True)\\\n",
    "        .load(f\"abfss://bronze@de1storagedatalake.dfs.core.windows.net/product_subcategories\")\n",
    "df_products = spark.read.format(\"csv\")\\\n",
    "        .option(\"header\", True)\\\n",
    "        .option(\"inferSchema\", True)\\\n",
    "        .load(f\"abfss://bronze@de1storagedatalake.dfs.core.windows.net/products\")\n",
    "\n",
    "df_returns = spark.read.format(\"csv\")\\\n",
    "        .option(\"header\", True)\\\n",
    "        .option(\"inferSchema\", True)\\\n",
    "        .load(f\"abfss://bronze@de1storagedatalake.dfs.core.windows.net/returns\")\n",
    "\n",
    "df_sales_2015 = spark.read.format(\"csv\")\\\n",
    "        .option(\"header\", True)\\\n",
    "        .option(\"inferSchema\", True)\\\n",
    "        .load(f\"abfss://bronze@de1storagedatalake.dfs.core.windows.net/sales_2015\")\n",
    "\n",
    "df_sales_2016 = spark.read.format(\"csv\")\\\n",
    "        .option(\"header\", True)\\\n",
    "        .option(\"inferSchema\", True)\\\n",
    "        .load(f\"abfss://bronze@de1storagedatalake.dfs.core.windows.net/sales_2016\")\n",
    "\n",
    "df_sales_2017 = spark.read.format(\"csv\")\\\n",
    "        .option(\"header\", True)\\\n",
    "        .option(\"inferSchema\", True)\\\n",
    "        .load(f\"abfss://bronze@de1storagedatalake.dfs.core.windows.net/sales_2017\")\n",
    "\n",
    "df_territories = spark.read.format(\"csv\")\\\n",
    "        .option(\"header\", True)\\\n",
    "        .option(\"inferSchema\", True)\\\n",
    "        .load(f\"abfss://bronze@de1storagedatalake.dfs.core.windows.net/territories\")\n"
   ]
  },
  {
   "cell_type": "code",
   "execution_count": 0,
   "metadata": {
    "application/vnd.databricks.v1+cell": {
     "cellMetadata": {
      "byteLimit": 2048000,
      "rowLimit": 10000
     },
     "inputWidgets": {},
     "nuid": "09c660ae-be64-486d-a929-3ae7756c21b3",
     "showTitle": false,
     "tableResultSettingsMap": {},
     "title": ""
    }
   },
   "outputs": [],
   "source": [
    "# Select the common columns from each dataframe before performing the union\n",
    "df_sales_2015_selected = df_sales_2015.select('OrderDate', 'StockDate', 'OrderNumber', 'ProductKey', 'CustomerKey', 'TerritoryKey', 'OrderLineItem', 'OrderQuantity')\n",
    "df_sales_2016_selected = df_sales_2016.select('OrderDate', 'StockDate', 'OrderNumber', 'ProductKey', 'CustomerKey', 'TerritoryKey', 'OrderLineItem', 'OrderQuantity')\n",
    "df_sales_2017_selected = df_sales_2017.select('OrderDate', 'StockDate', 'OrderNumber', 'ProductKey', 'CustomerKey', 'TerritoryKey', 'OrderLineItem', 'OrderQuantity')\n",
    "\n",
    "# Perform the union on the dataframes with the same schema\n",
    "df_sales = df_sales_2015_selected.union(df_sales_2016_selected).union(df_sales_2017_selected)"
   ]
  },
  {
   "cell_type": "markdown",
   "metadata": {
    "application/vnd.databricks.v1+cell": {
     "cellMetadata": {},
     "inputWidgets": {},
     "nuid": "3979da95-2eda-4302-8f70-a8255b06b9e7",
     "showTitle": false,
     "tableResultSettingsMap": {},
     "title": ""
    }
   },
   "source": [
    "Transformations"
   ]
  },
  {
   "cell_type": "code",
   "execution_count": 0,
   "metadata": {
    "application/vnd.databricks.v1+cell": {
     "cellMetadata": {
      "byteLimit": 2048000,
      "rowLimit": 10000
     },
     "collapsed": true,
     "inputWidgets": {},
     "nuid": "04f889a5-b5e9-4382-ac2d-952dc3afde59",
     "showTitle": false,
     "tableResultSettingsMap": {},
     "title": ""
    }
   },
   "outputs": [],
   "source": [
    "df_calendar.display()\n",
    "df_customers.display()\n",
    "df_product_categories.display()\n",
    "df_product_subcategories.display()\n",
    "df_products.display()\n",
    "df_returns.display()\n",
    "df_sales_2015.display()\n",
    "df_sales_2016.display()\n",
    "df_sales_2017.display()\n",
    "df_territories.display()"
   ]
  },
  {
   "cell_type": "code",
   "execution_count": 0,
   "metadata": {
    "application/vnd.databricks.v1+cell": {
     "cellMetadata": {
      "byteLimit": 2048000,
      "rowLimit": 10000
     },
     "inputWidgets": {},
     "nuid": "eace4ff5-4e46-4dfc-9eb8-7b0e82fdfbc6",
     "showTitle": false,
     "tableResultSettingsMap": {},
     "title": ""
    }
   },
   "outputs": [],
   "source": [
    "from pyspark.sql.functions import month, year\n",
    "df_calendar = df_calendar.withColumn(\"Month\", month(df_calendar.Date))\\\n",
    "    .withColumn(\"Year\", year(df_calendar.Date))"
   ]
  },
  {
   "cell_type": "code",
   "execution_count": 0,
   "metadata": {
    "application/vnd.databricks.v1+cell": {
     "cellMetadata": {
      "byteLimit": 2048000,
      "rowLimit": 10000
     },
     "collapsed": true,
     "inputWidgets": {},
     "nuid": "d753cd3a-7147-46d1-a1cf-f815f6ee6f9d",
     "showTitle": false,
     "tableResultSettingsMap": {},
     "title": ""
    }
   },
   "outputs": [],
   "source": [
    "df_calendar.display()"
   ]
  },
  {
   "cell_type": "code",
   "execution_count": 0,
   "metadata": {
    "application/vnd.databricks.v1+cell": {
     "cellMetadata": {
      "byteLimit": 2048000,
      "rowLimit": 10000
     },
     "inputWidgets": {},
     "nuid": "f05f1c14-1e47-4cb7-801a-2767596025b0",
     "showTitle": false,
     "tableResultSettingsMap": {},
     "title": ""
    }
   },
   "outputs": [],
   "source": [
    "df_calendar.write.format(\"parquet\")\\\n",
    "    .mode(\"append\")\\\n",
    "    .option(\"path\", f\"abfss://silver@de1storagedatalake.dfs.core.windows.net/calendar\")\\\n",
    "    .save()"
   ]
  },
  {
   "cell_type": "code",
   "execution_count": 0,
   "metadata": {
    "application/vnd.databricks.v1+cell": {
     "cellMetadata": {
      "byteLimit": 2048000,
      "rowLimit": 10000
     },
     "inputWidgets": {},
     "nuid": "9bf78aef-2fdb-417c-8002-b5ebc7c0b636",
     "showTitle": false,
     "tableResultSettingsMap": {},
     "title": ""
    }
   },
   "outputs": [],
   "source": [
    "from pyspark.sql.functions import concat_ws, lit\n",
    "\n",
    "df_customers = df_customers.withColumn(\n",
    "    \"fullname\", \n",
    "    concat_ws(' ',df_customers.Prefix, df_customers.FirstName, df_customers.LastName)\n",
    ")\n",
    "display(df_customers)"
   ]
  },
  {
   "cell_type": "code",
   "execution_count": 0,
   "metadata": {
    "application/vnd.databricks.v1+cell": {
     "cellMetadata": {
      "byteLimit": 2048000,
      "rowLimit": 10000
     },
     "inputWidgets": {},
     "nuid": "d1f91ec6-0fbb-46e1-9027-7475f1106f03",
     "showTitle": false,
     "tableResultSettingsMap": {},
     "title": ""
    }
   },
   "outputs": [],
   "source": [
    "df_customers.write.format(\"parquet\")\\\n",
    "    .mode(\"append\")\\\n",
    "    .option(\"path\", f\"abfss://silver@de1storagedatalake.dfs.core.windows.net/customers\")\\\n",
    "    .save()"
   ]
  },
  {
   "cell_type": "code",
   "execution_count": 0,
   "metadata": {
    "application/vnd.databricks.v1+cell": {
     "cellMetadata": {
      "byteLimit": 2048000,
      "rowLimit": 10000
     },
     "inputWidgets": {},
     "nuid": "9c8528e9-1204-4792-bf11-9d7cdb3ccc21",
     "showTitle": false,
     "tableResultSettingsMap": {},
     "title": ""
    }
   },
   "outputs": [],
   "source": [
    "df_product_categories.write.format(\"parquet\")\\\n",
    "    .mode(\"append\")\\\n",
    "    .option(\"path\", f\"abfss://silver@de1storagedatalake.dfs.core.windows.net/product_categories\")\\\n",
    "    .save()"
   ]
  },
  {
   "cell_type": "code",
   "execution_count": 0,
   "metadata": {
    "application/vnd.databricks.v1+cell": {
     "cellMetadata": {
      "byteLimit": 2048000,
      "rowLimit": 10000
     },
     "inputWidgets": {},
     "nuid": "9e4ab38e-279a-4c15-ad73-0e642b60de73",
     "showTitle": false,
     "tableResultSettingsMap": {},
     "title": ""
    }
   },
   "outputs": [],
   "source": [
    "df_product_subcategories.write.format(\"parquet\")\\\n",
    "    .mode(\"append\")\\\n",
    "    .option(\"path\", f\"abfss://silver@de1storagedatalake.dfs.core.windows.net/product_subcategories\")\\\n",
    "    .save()"
   ]
  },
  {
   "cell_type": "code",
   "execution_count": 0,
   "metadata": {
    "application/vnd.databricks.v1+cell": {
     "cellMetadata": {
      "byteLimit": 2048000,
      "rowLimit": 10000
     },
     "inputWidgets": {},
     "nuid": "47d588cb-fdac-4403-8c92-58022ff2730a",
     "showTitle": false,
     "tableResultSettingsMap": {},
     "title": ""
    }
   },
   "outputs": [],
   "source": [
    "df_products = spark.read.format(\"csv\")\\\n",
    "        .option(\"header\", True)\\\n",
    "        .option(\"inferSchema\", True)\\\n",
    "        .load(f\"abfss://bronze@de1storagedatalake.dfs.core.windows.net/products\")\n",
    "df_products.display()"
   ]
  },
  {
   "cell_type": "code",
   "execution_count": 0,
   "metadata": {
    "application/vnd.databricks.v1+cell": {
     "cellMetadata": {
      "byteLimit": 2048000,
      "rowLimit": 10000
     },
     "inputWidgets": {},
     "nuid": "e14a8b26-752e-4aba-9ebc-1282b6ee5543",
     "showTitle": false,
     "tableResultSettingsMap": {},
     "title": ""
    }
   },
   "outputs": [],
   "source": [
    "from pyspark.sql.functions import split\n",
    "df_products = df_products.withColumn(\"ProductSKU\", split(df_products.ProductSKU, '-').getItem(0))\\\n",
    "                .withColumn(\"ProductName\", split(df_products.ProductName, ',').getItem(0))\n",
    "\n",
    "df_products.display()"
   ]
  },
  {
   "cell_type": "code",
   "execution_count": 0,
   "metadata": {
    "application/vnd.databricks.v1+cell": {
     "cellMetadata": {
      "byteLimit": 2048000,
      "rowLimit": 10000
     },
     "inputWidgets": {},
     "nuid": "b09a3da9-56a0-430a-a352-5132dcd135bd",
     "showTitle": false,
     "tableResultSettingsMap": {},
     "title": ""
    }
   },
   "outputs": [],
   "source": [
    "df_products.write.format(\"parquet\")\\\n",
    "    .mode(\"append\")\\\n",
    "    .option(\"path\", f\"abfss://silver@de1storagedatalake.dfs.core.windows.net/products\")\\\n",
    "    .save()"
   ]
  },
  {
   "cell_type": "code",
   "execution_count": 0,
   "metadata": {
    "application/vnd.databricks.v1+cell": {
     "cellMetadata": {
      "byteLimit": 2048000,
      "rowLimit": 10000
     },
     "inputWidgets": {},
     "nuid": "712d3185-ca5e-4aba-b1f0-281c4cc6250c",
     "showTitle": false,
     "tableResultSettingsMap": {},
     "title": ""
    }
   },
   "outputs": [],
   "source": [
    "df_returns.write.format(\"parquet\")\\\n",
    "    .mode(\"append\")\\\n",
    "    .option(\"path\", f\"abfss://silver@de1storagedatalake.dfs.core.windows.net/returns\")\\\n",
    "    .save()"
   ]
  },
  {
   "cell_type": "code",
   "execution_count": 0,
   "metadata": {
    "application/vnd.databricks.v1+cell": {
     "cellMetadata": {
      "byteLimit": 2048000,
      "rowLimit": 10000
     },
     "inputWidgets": {},
     "nuid": "f2fc34a7-a12f-4b32-bf9c-4663272ccc7b",
     "showTitle": false,
     "tableResultSettingsMap": {},
     "title": ""
    }
   },
   "outputs": [],
   "source": [
    "df_territories.write.format(\"parquet\")\\\n",
    "    .mode(\"append\")\\\n",
    "    .option(\"path\", f\"abfss://silver@de1storagedatalake.dfs.core.windows.net/territories\")\\\n",
    "    .save()"
   ]
  },
  {
   "cell_type": "code",
   "execution_count": 0,
   "metadata": {
    "application/vnd.databricks.v1+cell": {
     "cellMetadata": {
      "byteLimit": 2048000,
      "rowLimit": 10000
     },
     "inputWidgets": {},
     "nuid": "8f84f710-a0c9-4adc-9110-ef68c0190b2a",
     "showTitle": false,
     "tableResultSettingsMap": {},
     "title": ""
    }
   },
   "outputs": [],
   "source": [
    "df_sales.display()"
   ]
  },
  {
   "cell_type": "code",
   "execution_count": 0,
   "metadata": {
    "application/vnd.databricks.v1+cell": {
     "cellMetadata": {
      "byteLimit": 2048000,
      "rowLimit": 10000
     },
     "inputWidgets": {},
     "nuid": "6197fdae-d0ae-42bc-b361-d248bd1ad35c",
     "showTitle": false,
     "tableResultSettingsMap": {},
     "title": ""
    }
   },
   "outputs": [],
   "source": [
    "from pyspark.sql.functions import to_timestamp, regexp_replace, col\n",
    "\n",
    "df_sales = df_sales.withColumn(\"StockDate\", to_timestamp(df_sales.StockDate, \"MM-dd-yyyy\"))\\\n",
    "                             .withColumn(\"OrderNumber\", regexp_replace(df_sales.OrderNumber, 'S', 'T'))\\\n",
    "                             .withColumn(\"Multiply\", col(\"OrderLineItem\") * col(\"OrderQuantity\"))\n",
    "display(df_sales)"
   ]
  },
  {
   "cell_type": "code",
   "execution_count": 0,
   "metadata": {
    "application/vnd.databricks.v1+cell": {
     "cellMetadata": {
      "byteLimit": 2048000,
      "rowLimit": 10000
     },
     "inputWidgets": {},
     "nuid": "c459ee33-8401-4e45-9261-43fa63babb44",
     "showTitle": false,
     "tableResultSettingsMap": {},
     "title": ""
    }
   },
   "outputs": [],
   "source": [
    "from pyspark.sql.functions import count\n",
    "\n",
    "df_sales.groupBy(\"OrderDate\").agg(pyspark.sql.functions.count(\"OrderNumber\").alias(\"Total_Order\")).orderBy(\"Total_Order\", ascending=False).display()\n"
   ]
  },
  {
   "cell_type": "code",
   "execution_count": 0,
   "metadata": {
    "application/vnd.databricks.v1+cell": {
     "cellMetadata": {
      "byteLimit": 2048000,
      "rowLimit": 10000
     },
     "inputWidgets": {},
     "nuid": "a03e1cbf-10e3-4d6f-bbaa-b920191c431d",
     "showTitle": false,
     "tableResultSettingsMap": {},
     "title": ""
    }
   },
   "outputs": [],
   "source": [
    "df_product_categories.display()"
   ]
  },
  {
   "cell_type": "code",
   "execution_count": 0,
   "metadata": {
    "application/vnd.databricks.v1+cell": {
     "cellMetadata": {
      "byteLimit": 2048000,
      "rowLimit": 10000
     },
     "inputWidgets": {},
     "nuid": "05b2f261-bed6-49cb-bf42-21961a65f7f6",
     "showTitle": false,
     "tableResultSettingsMap": {},
     "title": ""
    }
   },
   "outputs": [],
   "source": [
    "df_territories.display()"
   ]
  },
  {
   "cell_type": "code",
   "execution_count": 0,
   "metadata": {
    "application/vnd.databricks.v1+cell": {
     "cellMetadata": {
      "byteLimit": 2048000,
      "rowLimit": 10000
     },
     "inputWidgets": {},
     "nuid": "4f1fc31f-9155-450e-b702-eec8d6b0a92c",
     "showTitle": false,
     "tableResultSettingsMap": {},
     "title": ""
    }
   },
   "outputs": [],
   "source": [
    "df_sales.write.format(\"parquet\")\\\n",
    "    .mode(\"append\")\\\n",
    "    .option(\"path\", f\"abfss://silver@de1storagedatalake.dfs.core.windows.net/sales\")\\\n",
    "    .save()"
   ]
  },
  {
   "cell_type": "code",
   "execution_count": 0,
   "metadata": {
    "application/vnd.databricks.v1+cell": {
     "cellMetadata": {},
     "inputWidgets": {},
     "nuid": "f6df0a1d-e5a9-469f-92bb-92ea4b5640ec",
     "showTitle": false,
     "tableResultSettingsMap": {},
     "title": ""
    }
   },
   "outputs": [],
   "source": []
  }
 ],
 "metadata": {
  "application/vnd.databricks.v1+notebook": {
   "computePreferences": null,
   "dashboards": [],
   "environmentMetadata": {
    "base_environment": "",
    "environment_version": "2"
   },
   "inputWidgetPreferences": null,
   "language": "python",
   "notebookMetadata": {
    "pythonIndentUnit": 4
   },
   "notebookName": "silver_layer",
   "widgets": {}
  },
  "language_info": {
   "name": "python"
  }
 },
 "nbformat": 4,
 "nbformat_minor": 0
}
